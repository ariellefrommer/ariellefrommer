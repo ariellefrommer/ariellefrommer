{
 "cells": [
  {
   "cell_type": "markdown",
   "id": "f583abbd",
   "metadata": {},
   "source": [
    "## Importing Libraries, Classes, and Parameters"
   ]
  },
  {
   "cell_type": "code",
   "execution_count": 7,
   "id": "0bde8900",
   "metadata": {},
   "outputs": [],
   "source": [
    "# importing classes and parameters\n",
    "from Code.kec_states import ps, kec_nt, StateSearcher\n",
    "import numpy as np\n"
   ]
  },
  {
   "cell_type": "markdown",
   "id": "4988f9b9",
   "metadata": {},
   "source": [
    "## Example Usage"
   ]
  },
  {
   "cell_type": "code",
   "execution_count": 16,
   "id": "bb74b04b",
   "metadata": {},
   "outputs": [
    {
     "name": "stdout",
     "output_type": "stream",
     "text": [
      "Number of neutrinos is 6\n",
      "Reference state is [ 0  3  4  6 30 31]\n",
      "Reference state total momentum: [15. -7.  0.]\n",
      "Reference state kinetic energy: 25.133575248369315\n"
     ]
    }
   ],
   "source": [
    "# setting \"initial\" (reference) state\n",
    "ninit = np.sort(np.array([0, 3, 4, 6, 30, 31]))  # experiment with this (numbers and momentum)\n",
    "\n",
    "ss = StateSearcher(ps, kec_nt, ninit)\n",
    "ss.print_init()\n"
   ]
  },
  {
   "cell_type": "code",
   "execution_count": 19,
   "id": "80449e2b",
   "metadata": {},
   "outputs": [
    {
     "name": "stdout",
     "output_type": "stream",
     "text": [
      "All 8 states that can be visited from the reference state\n",
      "0th:  [ 0  3  4  6 30 31]\n",
      "1th:  [ 0  4  5  6 28 31]\n",
      "2th:  [ 0  2  3  9 30 31]\n",
      "3th:  [ 0  3  5  6 29 31]\n",
      "4th:  [ 0  2  5  9 28 31]\n",
      "5th:  [ 0  2  6  9 28 30]\n",
      "6th:  [ 0  3  5  6 26 34]\n",
      "7th:  [ 2  3  5  6 26 32]\n",
      "CPU times: user 1.93 ms, sys: 313 µs, total: 2.24 ms\n",
      "Wall time: 2.08 ms\n"
     ]
    }
   ],
   "source": [
    "%%time\n",
    "\n",
    "# searching for activated states\n",
    "ss.search_states()\n"
   ]
  },
  {
   "cell_type": "code",
   "execution_count": 20,
   "id": "d06ffe0c",
   "metadata": {},
   "outputs": [],
   "source": [
    "# saving activated states and files to computer\n",
    "file_path = f'/Users/ariellefrommer/Desktop/Neutrinos/KE_configurations/N{ss.Nn}_s{len(ss.p_states)}'\n",
    "ss.save_config(file_path)\n"
   ]
  },
  {
   "cell_type": "code",
   "execution_count": null,
   "id": "4873f7c6",
   "metadata": {},
   "outputs": [],
   "source": []
  },
  {
   "cell_type": "code",
   "execution_count": null,
   "id": "970b2073",
   "metadata": {},
   "outputs": [],
   "source": []
  },
  {
   "cell_type": "code",
   "execution_count": null,
   "id": "3e5904b3",
   "metadata": {},
   "outputs": [],
   "source": []
  }
 ],
 "metadata": {
  "kernelspec": {
   "display_name": "Python 3 (ipykernel)",
   "language": "python",
   "name": "python3"
  },
  "language_info": {
   "codemirror_mode": {
    "name": "ipython",
    "version": 3
   },
   "file_extension": ".py",
   "mimetype": "text/x-python",
   "name": "python",
   "nbconvert_exporter": "python",
   "pygments_lexer": "ipython3",
   "version": "3.9.12"
  }
 },
 "nbformat": 4,
 "nbformat_minor": 5
}
